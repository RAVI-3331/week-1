{
 "cells": [
  {
   "cell_type": "code",
   "execution_count": null,
   "metadata": {
    "vscode": {
     "languageId": "plaintext"
    }
   },
   "outputs": [],
   "source": [
    "plt.figure(figsize=(20,15))\n",
    "for i in range(9):\n",
    "  plt.subplot(4,3,(i%2)+1)\n",
    "  index=np.random.randint(15000)\n",
    "  plt.title('This is of {0}'.format(data.label1[index]))\n",
    "  plt.imshow(data.image[index])\n",
    "  plt.tight_layout()\n",
    "\n",
    "\n",
    "\n"
   ]
  }
 ],
 "metadata": {
  "language_info": {
   "name": "python"
  }
 },
 "nbformat": 4,
 "nbformat_minor": 2
}
